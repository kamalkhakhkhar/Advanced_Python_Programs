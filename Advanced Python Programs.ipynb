{
 "cells": [
  {
   "cell_type": "markdown",
   "id": "bf173d47",
   "metadata": {},
   "source": [
    "# Email Varification (Using String Function)"
   ]
  },
  {
   "cell_type": "code",
   "execution_count": 2,
   "id": "63f52665",
   "metadata": {},
   "outputs": [
    {
     "name": "stdout",
     "output_type": "stream",
     "text": [
      "Enter Email :-kk@j.i\n",
      "Wrong Email Pattern :- Email Of . Position Has Error\n"
     ]
    }
   ],
   "source": [
    "Email=input(\"Enter Email :-\")#kk@gmail.com\n",
    "#min 6 character comes as string \n",
    "#dont allow upper case\n",
    "#@ can be used once only \n",
    "#(' ') space is not allowed \n",
    "Upper_Cases=0\n",
    "spaces=0\n",
    "Other_Character=0\n",
    "if len(Email)>=6:\n",
    "    if Email[0].isalpha():\n",
    "        if (\"@\" in Email) and (Email.count(\"@\")==1):\n",
    "            if (Email[-4]==\".\")^(Email[-3]==\".\"):\n",
    "                for i in Email:\n",
    "                    if i==i.isspace():\n",
    "                        spaces=1\n",
    "                    elif i.isalpha():\n",
    "                        if i==i.upper():\n",
    "                            Upper_Cases=1\n",
    "                    elif i==\"_\" or i==\".\" or i==\"@\" or i.isdigit():\n",
    "                        continue\n",
    "                    else:\n",
    "                        Other_Character=1\n",
    "                if Other_Character==1:\n",
    "                    print(\"Wrong Email Pattern :- Email Has Other Character In Email Address\")\n",
    "                if Upper_Cases==1:\n",
    "                    print(\"Wrong Email Pattern :- Email Has Upper Cases In Email Address\")\n",
    "                if spaces==1:\n",
    "                    print(\"Wrong Email Pattern :- Email Has Space In Email Address\")\n",
    "            else:\n",
    "                print(\"Wrong Email Pattern :- Email Of . Position Has Error\")\n",
    "        else:\n",
    "            print(\"Wrong Email Pattern :- Email Has Problem In @ Count .\")\n",
    "    else:\n",
    "        print(\"Wrong Email Pattern :- Email Strat With Not Alphabet \")\n",
    "else:\n",
    "    print(\"Wrong Email Pattern :- Email Length Is Less Then 6\")\n",
    "    "
   ]
  },
  {
   "cell_type": "code",
   "execution_count": null,
   "id": "42665f54",
   "metadata": {},
   "outputs": [],
   "source": []
  }
 ],
 "metadata": {
  "kernelspec": {
   "display_name": "Python 3 (ipykernel)",
   "language": "python",
   "name": "python3"
  },
  "language_info": {
   "codemirror_mode": {
    "name": "ipython",
    "version": 3
   },
   "file_extension": ".py",
   "mimetype": "text/x-python",
   "name": "python",
   "nbconvert_exporter": "python",
   "pygments_lexer": "ipython3",
   "version": "3.9.7"
  }
 },
 "nbformat": 4,
 "nbformat_minor": 5
}
